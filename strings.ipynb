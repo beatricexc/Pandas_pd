{
 "cells": [
  {
   "cell_type": "code",
   "execution_count": 34,
   "id": "b86822cd",
   "metadata": {},
   "outputs": [],
   "source": [
    "import pandas as pd"
   ]
  },
  {
   "cell_type": "code",
   "execution_count": 35,
   "id": "027c35d0",
   "metadata": {},
   "outputs": [],
   "source": [
    "names = pd.Series(['Pomeray,  CODYZ ', ' Gloria; Allred', ' jayda, Smith'])"
   ]
  },
  {
   "cell_type": "code",
   "execution_count": 36,
   "id": "5e7f29ce",
   "metadata": {},
   "outputs": [
    {
     "data": {
      "text/plain": [
       "0    Pomeray,  CODYZ \n",
       "1      Gloria, Allred\n",
       "2        jayda, Smith\n",
       "dtype: object"
      ]
     },
     "execution_count": 36,
     "metadata": {},
     "output_type": "execute_result"
    }
   ],
   "source": [
    "names = names.str.replace(';', ',')\n",
    "names"
   ]
  },
  {
   "cell_type": "code",
   "execution_count": 37,
   "id": "f6351a02",
   "metadata": {},
   "outputs": [
    {
     "data": {
      "text/plain": [
       "0    16\n",
       "1    15\n",
       "2    13\n",
       "dtype: int64"
      ]
     },
     "execution_count": 37,
     "metadata": {},
     "output_type": "execute_result"
    }
   ],
   "source": [
    "names.str.len()"
   ]
  },
  {
   "cell_type": "code",
   "execution_count": 38,
   "id": "950dafe0",
   "metadata": {},
   "outputs": [
    {
     "data": {
      "text/plain": [
       "0    15\n",
       "1    14\n",
       "2    12\n",
       "dtype: int64"
      ]
     },
     "execution_count": 38,
     "metadata": {},
     "output_type": "execute_result"
    }
   ],
   "source": [
    "names = names.str.strip()\n",
    "names.str.len()"
   ]
  },
  {
   "cell_type": "code",
   "execution_count": 39,
   "id": "f18728e1",
   "metadata": {},
   "outputs": [
    {
     "data": {
      "text/plain": [
       "0    pomeray,  codyz\n",
       "1     gloria, allred\n",
       "2       jayda, smith\n",
       "dtype: object"
      ]
     },
     "execution_count": 39,
     "metadata": {},
     "output_type": "execute_result"
    }
   ],
   "source": [
    "names = names.str.lower()\n",
    "names"
   ]
  },
  {
   "cell_type": "code",
   "execution_count": 40,
   "id": "918e72df",
   "metadata": {},
   "outputs": [
    {
     "data": {
      "text/plain": [
       "0    [pomeray,  codyz]\n",
       "1     [gloria, allred]\n",
       "2       [jayda, smith]\n",
       "dtype: object"
      ]
     },
     "execution_count": 40,
     "metadata": {},
     "output_type": "execute_result"
    }
   ],
   "source": [
    "names = names.str.split(', ')\n",
    "names"
   ]
  },
  {
   "cell_type": "code",
   "execution_count": 41,
   "id": "da4b9dc7",
   "metadata": {},
   "outputs": [
    {
     "data": {
      "text/plain": [
       "0    [ codyz, pomeray]\n",
       "1     [allred, gloria]\n",
       "2       [smith, jayda]\n",
       "dtype: object"
      ]
     },
     "execution_count": 41,
     "metadata": {},
     "output_type": "execute_result"
    }
   ],
   "source": [
    "names = pd.Series([i[::-1] for i in names])\n",
    "names"
   ]
  },
  {
   "cell_type": "code",
   "execution_count": 42,
   "id": "e969c546",
   "metadata": {},
   "outputs": [
    {
     "data": {
      "text/plain": [
       "[' codyz pomeray', 'allred gloria', 'smith jayda']"
      ]
     },
     "execution_count": 42,
     "metadata": {},
     "output_type": "execute_result"
    }
   ],
   "source": [
    "names = [' '.join(i) for i in names]\n",
    "names"
   ]
  }
 ],
 "metadata": {
  "kernelspec": {
   "display_name": "Python 3 (ipykernel)",
   "language": "python",
   "name": "python3"
  },
  "language_info": {
   "codemirror_mode": {
    "name": "ipython",
    "version": 3
   },
   "file_extension": ".py",
   "mimetype": "text/x-python",
   "name": "python",
   "nbconvert_exporter": "python",
   "pygments_lexer": "ipython3",
   "version": "3.9.7"
  }
 },
 "nbformat": 4,
 "nbformat_minor": 5
}
